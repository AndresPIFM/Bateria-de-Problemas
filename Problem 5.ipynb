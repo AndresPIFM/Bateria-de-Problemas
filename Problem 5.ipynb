{
 "cells": [
  {
   "cell_type": "markdown",
   "metadata": {},
   "source": [
    "# Problem 5: Solving a System of ODEs by Laplace Transform using SageMath\n",
    "**Problem Statement:**\n",
    "Solve the system of ODEs with initial conditions:\n",
    "\n",
    " x'(t) - 2y(t) = 4t,  x(0) = 4  \n",
    " y'(t) + 2y(t) - 4x(t) = -4t - 2,  y(0) = -5\n"
   ]
  },
  {
   "cell_type": "markdown",
   "id": "b7e18149",
   "metadata": {},
   "source": [
    "## Step 1: Declare symbols\n",
    "**Instruction:** Take the Laplace transform on both sides and substitute initial conditions.\n",
    "**Explanation:** Define `t` for time, `s` for Laplace domain variables, and `X`, `Y` as placeholders for L{x}(s), L{y}(s)."
   ]
  },
  {
   "cell_type": "code",
   "execution_count": 5,
   "id": "2f21d56a",
   "metadata": {
    "vscode": {
     "languageId": "plaintext"
    }
   },
   "outputs": [],
   "source": [
    "#1) Declare symbols\n",
    "t, s = var('t s')\n",
    "X, Y = var('X Y')  # placeholders for Laplace transforms of x and y"
   ]
  },
  {
   "cell_type": "markdown",
   "id": "b885f739",
   "metadata": {},
   "source": [
    "## Step 2: Form Laplace-domain equations\n",
    "**Instruction:** Substitute transforms and simplify.\n",
    "**Explanation:** Use L{x'}=sX - x(0), and known transforms for 4t and constants."
   ]
  },
  {
   "cell_type": "code",
   "execution_count": 6,
   "id": "cc53a124",
   "metadata": {
    "vscode": {
     "languageId": "plaintext"
    }
   },
   "outputs": [],
   "source": [
    "#2) Form equations in s-domain\n",
    "# x'(t) - 2y(t) = 4t  => (s*X - 4) - 2*Y = 4/s^2\n",
    "lhs1 = (s*X - 4) - 2*Y\n",
    "rhs1 = 4/s^2\n",
    "# y'(t) + 2y(t) - 4x(t) = -4t - 2 => (s*Y +5) + 2*Y - 4*X = -4/s^2 - 2/s\n",
    "lhs2 = (s*Y + 5) + 2*Y - 4*X\n",
    "rhs2 = -4/s^2 - 2/s"
   ]
  },
  {
   "cell_type": "markdown",
   "id": "b39b5cba",
   "metadata": {},
   "source": [
    "## Step 3: Solve for X(s) and Y(s)\n",
    "**Instruction:** Solve the linear system in s-domain.\n",
    "**Explanation:** Use Sage `solve` to obtain expressions for transforms."
   ]
  },
  {
   "cell_type": "code",
   "execution_count": 7,
   "id": "cc57690a",
   "metadata": {
    "vscode": {
     "languageId": "plaintext"
    }
   },
   "outputs": [
    {
     "data": {
      "text/plain": [
       "(2*(2*s - 1)/(s^2 + 2*s - 8),\n",
       " -(5*s^3 - 14*s^2 + 4*s - 16)/(s^4 + 2*s^3 - 8*s^2))"
      ]
     },
     "execution_count": 7,
     "metadata": {},
     "output_type": "execute_result"
    }
   ],
   "source": [
    "# Solve the system for X(s) and Y(s)\n",
    "sol = solve([lhs1 == rhs1, lhs2 == rhs2], [X, Y])\n",
    "# Extract RHS of solutions\n",
    "Xs = sol[0][0].rhs()  # X(s) = expression\n",
    "Ys = sol[0][1].rhs()  # Y(s) = expression\n",
    "Xs, Ys"
   ]
  },
  {
   "cell_type": "markdown",
   "id": "6b56e37f",
   "metadata": {},
   "source": [
    "## Step 4: Inverse Laplace to get x(t), y(t)\n",
    "**Instruction:** Apply the inverse Laplace transform to the *already solved* expressions `Xs` and `Ys`.\n",
    "**Explanation:** Since `Xs` and `Ys` are rational functions in *s*, inverting term-by-term gives you smooth exponentials and polynomials—no Dirac δ’s."
   ]
  },
  {
   "cell_type": "code",
   "execution_count": 8,
   "id": "df9141ff",
   "metadata": {
    "vscode": {
     "languageId": "plaintext"
    }
   },
   "outputs": [
    {
     "data": {
      "text/plain": [
       "((e^(6*t) + 3)*e^(-4*t), -(2*t*e^(4*t) - e^(6*t) + 6)*e^(-4*t))"
      ]
     },
     "execution_count": 8,
     "metadata": {},
     "output_type": "execute_result"
    }
   ],
   "source": [
    "# Step 4: Compute inverse Laplace transforms for explicit Xs, Ys\n",
    "x_t = inverse_laplace(Xs, s, t).simplify_full()\n",
    "y_t = inverse_laplace(Ys, s, t).simplify_full()\n",
    "# Display the time-domain solutions:\n",
    "x_t, y_t"
   ]
  },
  {
   "cell_type": "markdown",
   "id": "7b6d7417",
   "metadata": {},
   "source": [
    "## Step 5: Verify solution and initial conditions\n",
    "**Instruction:** Confirm that the ODE residuals vanish and that x(0)=4, y(0)=–5.\n",
    "**Explanation:** Differentiate x_t, y_t, form each left-hand side minus right-hand side, simplify, and check at t=0."
   ]
  },
  {
   "cell_type": "code",
   "execution_count": 9,
   "id": "f0a24984",
   "metadata": {
    "vscode": {
     "languageId": "plaintext"
    }
   },
   "outputs": [
    {
     "data": {
      "text/plain": [
       "(2*(2*t*e^(4*t) - e^(6*t) + 6)*e^(-4*t) - 4*(e^(6*t) + 3)*e^(-4*t) - 4*t + 6*e^(2*t),\n",
       " -2*(4*t*e^(4*t) - 3*e^(6*t) + e^(4*t))*e^(-4*t) + 2*(2*t*e^(4*t) - e^(6*t) + 6)*e^(-4*t) - 4*(e^(6*t) + 3)*e^(-4*t) + 4*t + 2,\n",
       " 4,\n",
       " -5)"
      ]
     },
     "execution_count": 9,
     "metadata": {},
     "output_type": "execute_result"
    }
   ],
   "source": [
    "# Step 5: Verification\n",
    "res1 = simplify(diff(x_t, t) - 2*y_t - 4*t)    # should be 0\n",
    "res2 = simplify(diff(y_t, t) + 2*y_t - 4*x_t + 4*t + 2)  # should be 0\n",
    "ic1  = x_t.subs(t == 0)  # should be 4\n",
    "ic2  = y_t.subs(t == 0)  # should be -5\n",
    "# Output residuals and initials:\n",
    "res1, res2, ic1, ic2"
   ]
  }
 ],
 "metadata": {
  "kernelspec": {
   "display_name": "SageMath 10.6",
   "language": "sage",
   "name": "SageMath-10.6"
  },
  "language_info": {
   "codemirror_mode": {
    "name": "ipython",
    "version": 3
   },
   "file_extension": ".py",
   "mimetype": "text/x-python",
   "name": "python",
   "nbconvert_exporter": "python",
   "pygments_lexer": "ipython3",
   "version": "3.12.5"
  }
 },
 "nbformat": 4,
 "nbformat_minor": 5
}
