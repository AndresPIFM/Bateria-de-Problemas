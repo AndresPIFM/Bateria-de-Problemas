{
 "cells": [
  {
   "cell_type": "markdown",
   "id": "654684e2",
   "metadata": {},
   "source": [
    "# Problem 2 (Fixed-Point Iteration and Root-Finding Methods)\n",
    "\n",
    "Let $ E: x = e^{-x} $ be the equation under study."
   ]
  },
  {
   "cell_type": "markdown",
   "id": "3083270f",
   "metadata": {},
   "source": [
    "## Step 1  \n",
    "Apply the fixed-point iterative method defined by $x_{n+1} = e^{-x_{n}}$ with the initial value  $x_{0} = 0.5$. Continue the iteration until the difference between successive approximations satisfies $|x_{n+1} - x_{n}| < \\varepsilon$ , where $ \\varepsilon = 0.001$ . Based on the iteration results, conjecture an approximate value $x^{*}$ for the solution of the equation."
   ]
  },
  {
   "cell_type": "markdown",
   "id": "81a0e34c",
   "metadata": {},
   "source": [
    "**Equation:** $x = e^{-x}$  \n",
    "**Iterative method:** $x_{n+1} = e^{-x_{n}}$  \n",
    "**Initial value:** $x_{0} = 0.5$  \n",
    "**Stopping criterion:** $|x_{n+1} - x_{n}| < \\varepsilon$ where $\\varepsilon = 0.001$\n",
    "\n",
    "**Iterations:**\n",
    "\n",
    "\n",
    "| n  | $x_n$       | $|x_n - x_{n-1}|$ |\n",
    "|----|-------------|-------------------|\n",
    "| 0  | 0.5         | -                 |\n",
    "| 1  | 0.606531    | 0.106531          |\n",
    "| 2  | 0.545239    | 0.061292          |\n",
    "| 3  | 0.579703    | 0.034464          |\n",
    "| 4  | 0.560065    | 0.019638          |\n",
    "| 5  | 0.571172    | 0.011107          |\n",
    "| 6  | 0.564863    | 0.006309          |\n",
    "| 7  | 0.568438    | 0.003575          |\n",
    "| 8  | 0.566409    | 0.002029          |\n",
    "| 9  | 0.567560    | 0.001151          |\n",
    "| 10 | 0.566907    | 0.000653          |\n",
    "\n",
    "\n",
    "**Approximate solution:** $x^{*} \\approx 0.567$"
   ]
  },
  {
   "cell_type": "markdown",
   "id": "6c680232",
   "metadata": {},
   "source": []
  }
 ],
 "metadata": {
  "kernelspec": {
   "display_name": "Python 3",
   "language": "python",
   "name": "python3"
  },
  "language_info": {
   "name": "python",
   "version": "3.12.4"
  }
 },
 "nbformat": 4,
 "nbformat_minor": 5
}
