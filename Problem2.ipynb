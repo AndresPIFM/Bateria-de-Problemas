{
 "cells": [
  {
   "cell_type": "markdown",
   "id": "654684e2",
   "metadata": {},
   "source": [
    "# Problem 2 (Fixed-Point Iteration and Root-Finding Methods)\n",
    "\n",
    "Let $ E: x = e^{-x} $ be the equation under study."
   ]
  },
  {
   "cell_type": "markdown",
   "id": "3083270f",
   "metadata": {},
   "source": [
    "## Step 1  \n",
    "Apply the fixed-point iterative method defined by $x_{n+1} = e^{-x_{n}}$ with the initial value  $x_{0} = 0.5$. Continue the iteration until the difference between successive approximations satisfies $|x_{n+1} - x_{n}| < \\varepsilon$ , where $ \\varepsilon = 0.001$ . Based on the iteration results, conjecture an approximate value $x^{*}$ for the solution of the equation."
   ]
  },
  {
   "cell_type": "markdown",
   "id": "81a0e34c",
   "metadata": {},
   "source": [
    "**Equation:** $x = e^{-x}$  \n",
    "**Iterative method:** $x_{n+1} = e^{-x_{n}}$  \n",
    "**Initial value:** $x_{0} = 0.5$  \n",
    "**Stopping criterion:** $|x_{n+1} - x_{n}| < \\varepsilon$ where $\\varepsilon = 0.001$\n",
    "\n",
    "**Iterations:**\n",
    "\n",
    "\n",
    "\n",
    "| $n$ | $x_n$ | $ x_n - x_{n-1} $ |\n",
    "|-----|-------|-------------------|\n",
    "| 0 | 0.5     | -                 |\n",
    "| 1 | 0.606531| 0.106531          |\n",
    "| 2 | 0.545239| 0.061292          |\n",
    "| 3 | 0.579703| 0.034464          |\n",
    "| 4 | 0.560065| 0.019638          |\n",
    "| 5 | 0.571172| 0.011107          |\n",
    "| 6 | 0.564863| 0.006309          |\n",
    "| 7 | 0.568438| 0.003575          |\n",
    "| 8 | 0.566409| 0.002029          |\n",
    "| 9 | 0.567560| 0.001151          |\n",
    "| 10| 0.566907| 0.000653          |\n",
    "\n",
    "\n",
    "**Approximate solution:** $x^{*} \\approx 0.567$"
   ]
  },
  {
   "cell_type": "markdown",
   "id": "d6d115e2",
   "metadata": {},
   "source": [
    "## Step 2  \n",
    "Prove that the function  $f(x) = e^{-x}$ is Lipschitz continuous in a neighborhood of the conjectured root $x^{*}$ that also contains the initial value $x_{0}$.\n"
   ]
  },
  {
   "cell_type": "markdown",
   "id": "851921e4",
   "metadata": {},
   "source": [
    "To prove Lipschitz continuity in a neighborhood of $x^{*} \\approx 0.567$ containing $x_0 = 0.5$:\n",
    "\n",
    "1. Compute derivative: $f'(x) = -e^{-x}$\n",
    "2. In $[0.5, 0.6]$: $|f'(x)| \\leq e^{-0.5} \\approx 0.606531$\n",
    "3. Since $|f'(x)| \\leq$ Lipschitz constant $L \\approx 0.606531 < 1$, f is Lipschitz continuous in this interval near the root."
   ]
  },
  {
   "cell_type": "markdown",
   "id": "a08d3516",
   "metadata": {},
   "source": [
    "## Step 3  \n",
    "Apply the Newton-Raphson method to approximate the solution of  $E$, using the same initial value $ x_{0} = 0.5$  and the same stopping criterion $ |x_{n+1} - x_{n}| < \\varepsilon$ .\n"
   ]
  },
  {
   "cell_type": "markdown",
   "id": "1b5dc4d4",
   "metadata": {},
   "source": [
    "**Function:** $f(x) = x - e^{-x}$  \n",
    "**Derivative:** $f'(x) = 1 + e^{-x}$  \n",
    "**Newton-Raphson formula:** \n",
    "$$x_{n+1} = x_n - \\frac{f(x_n)}{f'(x_n)} = x_n - \\frac{x_n - e^{-x_n}}{1 + e^{-x_n}}$$\n",
    "\n",
    "**Iterations:**\n",
    "\n",
    "| n | $x_n$       | $x_n - x_{n-1}$ |\n",
    "|---|-------------|-------------------|\n",
    "| 0 | 0.5         | -                 |\n",
    "| 1 | 0.566311    | 0.066311          |\n",
    "| 2 | 0.567143    | 0.000832          |\n",
    "\n",
    "**Approximate solution:** $x^{*} \\approx 0.567$"
   ]
  },
  {
   "cell_type": "markdown",
   "id": "4e83f62f",
   "metadata": {},
   "source": [
    "## Step 4  \n",
    "Use the bisection method to approximate the solution of $E$, with stopping criterion $|b_{n} - a_{n}| < \\varepsilon$ , where  $[a_{n}, b_{n}]$ is the current interval. Choose a valid initial interval  $[a, b]$ that contains the root, based on your observations in Step 1."
   ]
  },
  {
   "cell_type": "markdown",
   "id": "1d5ef8a9",
   "metadata": {},
   "source": [
    "**Initial interval:** $[a,b] = [0.5,0.6]$  \n",
    "**Stopping criterion:** $|b_n - a_n| < 0.001$\n",
    "\n",
    "**Iterations:**\n",
    "\n",
    "| n | $a_n$       | $b_n$       | $c_n$       | $f(c_n)$      | New Interval |\n",
    "|---|-------------|-------------|-------------|---------------|--------------|\n",
    "| 1 | 0.5         | 0.6         | 0.55        | -0.026950     | [0.55,0.6]   |\n",
    "| 2 | 0.55        | 0.6         | 0.575       | 0.012295      | [0.55,0.575] |\n",
    "| 3 | 0.55        | 0.575       | 0.5625      | -0.007283     | [0.5625,0.575]|\n",
    "| 4 | 0.5625      | 0.575       | 0.56875     | 0.002517      | [0.5625,0.56875]|\n",
    "| 5 | 0.5625      | 0.56875     | 0.565625    | -0.00238     | [0.565625,0.56875]|\n",
    "| 6 | 0.565625    | 0.56875     | 0.5671875   | 0.000181      | [0.565625,0.5671875]|\n",
    "| 7 | 0.565625    | 0.5671875   | 0.56640625  | -0.001082     | [0.56640625,0.5671875]|\n",
    "\n",
    "**Final interval width:** $|b_n - a_n|= 0.5671875-0.56640625 = 0.00078125 < 0.001$\n",
    "\n",
    "\n",
    "**Approximate solution:** $x^{*} \\approx \\frac{0.56640625+0.5671875}{2}\\approx 0.5668$\n"
   ]
  },
  {
   "cell_type": "markdown",
   "id": "e47f572d",
   "metadata": {},
   "source": [
    "## Step 5  \n",
    "Apply the *regula falsi* (false position) method to the same interval and stopping criterion used in Step 4. Compare its efficiency to the bisection method."
   ]
  },
  {
   "cell_type": "markdown",
   "id": "01e66aea",
   "metadata": {},
   "source": [
    "**Initial interval:** $[a,b] = [0.5,0.6]$  \n",
    "**Stopping criterion:** $|b_n - a_n| < 0.001$\n",
    "\n",
    "**Function:** $f(x) = x - e^{-x}$\n",
    "\n",
    "**Formula:**\n",
    "$$x_{n+1} = b_n - \\frac{f(b_n)(b_n - a_n)}{f(b_n) - f(a_n)}$$\n",
    "\n",
    "**Iterations:**\n",
    "\n",
    "| n | $a_n$       | $b_n$       | $x_n$       | $f(x_n)$     | New Interval |\n",
    "|---|-------------|-------------|-------------|---------------|--------------|\n",
    "| 1 | 0.5         | 0.6         | 0.567545    | 0.000629      | [0.5,0.567545]|\n",
    "| 2 | 0.5         | 0.567543    | 0.567148    | -0.000008     | [0.567102,0.567148]|\n",
    "\n",
    "**Final interval width:** $|b_n - a_n|= 0.567148-0.567102= 0.000046 < 0.001$\n",
    "\n",
    "**Approximate solution:** $x^{*} \\approx 0.567$"
   ]
  },
  {
   "cell_type": "markdown",
   "id": "07cd9c85",
   "metadata": {},
   "source": [
    "## Efficiency Comparison\n",
    "\n",
    "- **Bisection:** 7 iterations\n",
    "- **Regula Falsi:** 2 iterations\n",
    "\n",
    "The regula falsi method demonstrated faster convergence in this case."
   ]
  }
 ],
 "metadata": {
  "kernelspec": {
   "display_name": "Python 3",
   "language": "python",
   "name": "python3"
  },
  "language_info": {
   "name": "python",
   "version": "3.12.4"
  }
 },
 "nbformat": 4,
 "nbformat_minor": 5
}
