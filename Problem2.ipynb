{
 "cells": [
  {
   "cell_type": "markdown",
   "id": "654684e2",
   "metadata": {},
   "source": [
    "# Problem 2 (Fixed-Point Iteration and Root-Finding Methods)\n",
    "\n",
    "Let $ E: x = e^{-x} $ be the equation under study."
   ]
  },
  {
   "cell_type": "markdown",
   "id": "3083270f",
   "metadata": {},
   "source": [
    "## Step 1  \n",
    "Apply the fixed-point iterative method defined by $x_{n+1} = e^{-x_{n}}$ with the initial value  $x_{0} = 0.5$. Continue the iteration until the difference between successive approximations satisfies $|x_{n+1} - x_{n}| < \\varepsilon$ , where $ \\varepsilon = 0.001$ . Based on the iteration results, conjecture an approximate value $x^{*}$ for the solution of the equation."
   ]
  },
  {
   "cell_type": "code",
   "execution_count": null,
   "id": "26cd1957",
   "metadata": {},
   "outputs": [],
   "source": []
  }
 ],
 "metadata": {
  "kernelspec": {
   "display_name": "Python 3",
   "language": "python",
   "name": "python3"
  },
  "language_info": {
   "name": "python",
   "version": "3.12.4"
  }
 },
 "nbformat": 4,
 "nbformat_minor": 5
}
