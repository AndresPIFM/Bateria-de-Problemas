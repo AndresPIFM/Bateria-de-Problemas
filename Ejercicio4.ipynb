{
  "nbformat": 4,
  "nbformat_minor": 0,
  "metadata": {
    "colab": {
      "provenance": []
    },
    "kernelspec": {
      "name": "python3",
      "display_name": "Python 3"
    },
    "language_info": {
      "name": "python"
    }
  },
  "cells": [
    {
      "cell_type": "markdown",
      "source": [
        "# Problem 4"
      ],
      "metadata": {
        "id": "aFy_yGGynlzV"
      }
    },
    {
      "cell_type": "markdown",
      "source": [
        "# Numerical Solution of a System of Differential Equations\n",
        "\n",
        "We consider the following system of differential equations:\n",
        "\n",
        "$$\n",
        "\\begin{cases}\n",
        "F'(t) = (2 - S(t))\\,F(t), & F(0) = F_0, \\\\\n",
        "S'(t) = (F(t) - 1)\\,S(t), & S(0) = S_0.\n",
        "\\end{cases}\n",
        "$$\n",
        "\n",
        "We will use the modified Euler method (Heun’s method) to solve this system numerically, and compare it with SciPy’s `solve_ivp` solver.\n",
        "\n",
        "---\n",
        "\n",
        "## ✅ Step 1: Modified Euler Method (Heun)\n",
        "\n",
        "Heun’s method consists of two stages:\n",
        "\n",
        "**Predictor (standard Euler):**\n",
        "\n",
        "$$\n",
        "F_{\\text{pred}} = F_n + \\Delta t \\,\\bigl(2 - S_n\\bigr)\\,F_n,\n",
        "\\quad\n",
        "S_{\\text{pred}} = S_n + \\Delta t \\,\\bigl(F_n - 1\\bigr)\\,S_n.\n",
        "$$\n",
        "\n",
        "**Corrector (average of slopes):**\n",
        "\n",
        "$$\n",
        "F_{n+1} = F_n + \\frac{\\Delta t}{2}\\Bigl[\\,(2 - S_n)\\,F_n \\;+\\;(2 - S_{\\text{pred}})\\,F_{\\text{pred}}\\Bigr],\n",
        "$$\n",
        "\n",
        "$$\n",
        "S_{n+1} = S_n + \\frac{\\Delta t}{2}\\Bigl[\\,(F_n - 1)\\,S_n \\;+\\;(F_{\\text{pred}} - 1)\\,S_{\\text{pred}}\\Bigr].\n",
        "$$\n",
        "\n",
        "### Python Code\n",
        "\n",
        "```python\n",
        "import numpy as np\n",
        "import matplotlib.pyplot as plt\n",
        "\n",
        "def heuns_method(F0, S0, dt, t_end):\n",
        "    steps = int(t_end / dt)\n",
        "    t = np.linspace(0, t_end, steps + 1)\n",
        "    F = np.zeros(steps + 1)\n",
        "    S = np.zeros(steps + 1)\n",
        "    F[0], S[0] = F0, S0\n",
        "\n",
        "    for i in range(steps):\n",
        "        k1_F = (2 - S[i]) * F[i]\n",
        "        k1_S = (F[i] - 1) * S[i]\n",
        "\n",
        "        F_pred = F[i] + dt * k1_F\n",
        "        S_pred = S[i] + dt * k1_S\n",
        "\n",
        "        k2_F = (2 - S_pred) * F_pred\n",
        "        k2_S = (F_pred - 1) * S_pred\n",
        "\n",
        "        F[i + 1] = F[i] + dt * (k1_F + k2_F) / 2\n",
        "        S[i + 1] = S[i] + dt * (k1_S + k2_S) / 2\n",
        "\n",
        "    return t, F, S\n"
      ],
      "metadata": {
        "id": "QNzXVTCqjUd4"
      }
    },
    {
      "cell_type": "markdown",
      "source": [
        "## ✅ Step 2: Numerical Solution with 𝐹0=1.9,  𝑆0=0.1\n",
        "    Use the specific initial conditions and plot the results:\n",
        "\n",
        "\n",
        "The plot shows a cyclic behavior, indicating continuous interaction between 𝐹 and 𝑆.\n",
        "\n",
        "### Python Code\n",
        "\n",
        "```python\n",
        "F0, S0 = 1.9, 0.1\n",
        "dt, t_end = 0.001, 1\n",
        "\n",
        "t, F, S = heuns_method(F0, S0, dt, t_end)\n",
        "\n",
        "plt.figure(figsize=(10, 6))\n",
        "plt.plot(t, F, label='F(t)')\n",
        "plt.plot(t, S, label='S(t)')\n",
        "plt.xlabel('Time (t)')\n",
        "plt.ylabel('Values of F and S')\n",
        "plt.title('Numerical Solution with Heun (F₀=1.9, S₀=0.1)')\n",
        "plt.legend()\n",
        "plt.grid(True)\n",
        "plt.show()\n",
        "\n",
        "---\n",
        "\n"
      ],
      "metadata": {
        "id": "nzl2IcIvkPBm"
      }
    },
    {
      "cell_type": "markdown",
      "source": [
        "## Step 3: Comparison with SciPy’s solve_ivp\n",
        "\n",
        "Both methods produce virtually identical results, confirming the accuracy of Heun’s method.\n",
        "\n",
        "### Python Code\n",
        "\n",
        "```python\n",
        "from scipy.integrate import solve_ivp\n",
        "\n",
        "def system(t, y):\n",
        "    F, S = y\n",
        "    return [(2 - S) * F, (F - 1) * S]\n",
        "\n",
        "sol = solve_ivp(system, [0, t_end], [F0, S0], method='RK45', t_eval=t)\n",
        "\n",
        "plt.figure(figsize=(10, 6))\n",
        "plt.plot(t, F, '--', label='Heun F(t)')\n",
        "plt.plot(t, S, '--', label='Heun S(t)')\n",
        "plt.plot(sol.t, sol.y[0], label='SciPy F(t)')\n",
        "plt.plot(sol.t, sol.y[1], label='SciPy S(t)')\n",
        "plt.xlabel('Time (t)')\n",
        "plt.ylabel('Values of F and S')\n",
        "plt.title('Heun vs. SciPy Comparison (F₀=1.9, S₀=0.1)')\n",
        "plt.legend()\n",
        "plt.grid(True)\n",
        "plt.show()\n"
      ],
      "metadata": {
        "id": "9mao3CHZk3IM"
      }
    },
    {
      "cell_type": "markdown",
      "source": [
        "### Step 4: Solution with New Initial Conditions (F0​=1, S0​=2)\n",
        "Analyze these new initial conditions:\n",
        "\n",
        "We observe that the solution remains constant.\n",
        "\n",
        "### Python Code\n",
        "\n",
        "```python\n",
        "F0_new, S0_new = 1, 2\n",
        "\n",
        "t, F_new, S_new = heuns_method(F0_new, S0_new, dt, t_end)\n",
        "\n",
        "plt.figure(figsize=(10, 6))\n",
        "plt.plot(t, F_new, label='F(t)')\n",
        "plt.plot(t, S_new, label='S(t)')\n",
        "plt.xlabel('Time (t)')\n",
        "plt.ylabel('Values of F and S')\n",
        "plt.title('Numerical Solution (F₀=1, S₀=2)')\n",
        "plt.legend()\n",
        "plt.grid(True)\n",
        "plt.show()\n",
        "\n"
      ],
      "metadata": {
        "id": "6wAPa_5Alg9V"
      }
    },
    {
      "cell_type": "markdown",
      "source": [
        "# ✅ Step 5: Explanation of Observed Behavior – Discuss why the solution remains constant at the equilibrium\n",
        "\n",
        "With \\(F_0 = 1\\) and \\(S_0 = 2\\), the system does not change over time. This indicates an equilibrium point satisfying:\n",
        "\n",
        "$$\n",
        "\\begin{cases}\n",
        "(2 - S)\\,F = 0,\\\\\n",
        "(F - 1)\\,S = 0.\n",
        "\\end{cases}\n",
        "$$\n",
        "\n",
        "These equations hold at:\n",
        "\n",
        "$$\n",
        "(F, S) = (0, 0),\n",
        "\\quad\n",
        "(F, S) = (1, 2).\n",
        "$$\n",
        "\n",
        "By choosing the equilibrium point \\((1,2)\\), the solutions remain constant in time.\n"
      ],
      "metadata": {
        "id": "2pfUgw07mflW"
      }
    }
  ]
}