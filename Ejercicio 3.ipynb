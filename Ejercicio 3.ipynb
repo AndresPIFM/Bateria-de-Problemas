{
 "cells": [
  {
   "cell_type": "markdown",
   "id": "bab73bfb",
   "metadata": {},
   "source": [
    "## Problem 3 (Numerical Integration of the Gaussian Density Function)\n",
    "\n",
    "Let\n",
    "\n",
    "$$\n",
    "f(x) = \\frac{1}{\\sqrt{2\\pi}} e^{-x^2/2}\n",
    "$$\n",
    "\n",
    "be the standard normal (Gaussian) probability density function. Consider the integral\n",
    "\n",
    "$$\n",
    "I = \\int_{-2}^{2} f(x)\\, dx,\n",
    "$$\n",
    "\n",
    "which represents the probability that a standard normal random variable lies within two standard deviations of the mean.\n"
   ]
  },
  {
   "cell_type": "markdown",
   "id": "87a666b6",
   "metadata": {},
   "source": [
    "### Step 1\n",
    "\n",
    "Use the **composite trapezoidal rule** with $n = 8$ subintervals to approximate the integral $I$. Write out the general form of the rule and substitute the function values. Report your final approximation to at least six decimal digits."
   ]
  },
  {
   "cell_type": "markdown",
   "id": "aeb60bb4",
   "metadata": {},
   "source": [
    "- Interval: $a = -2$ to $b = 2$\n",
    "- Subintervals: $n = 8$\n",
    "- Step size: \n",
    "  $$ h = \\frac{b-a}{n} = \\frac{4}{8} = 0.5 $$\n",
    "\n",
    "$$ x_i = -2 + i \\cdot h \\quad \\text{for} \\quad i = 0,1,\\dots,8 $$\n",
    "Explicit points:\n",
    "$$ \\{-2.0, -1.5, -1.0, -0.5, 0.0, 0.5, 1.0, 1.5, 2.0\\} $$\n",
    "\n",
    "Using $f(x) = \\frac{1}{\\sqrt{2\\pi}} e^{-x^2/2}$:\n",
    "\n",
    "| $i$ | $x_i$ | $f(x_i)$          |\n",
    "|-----|-------|-------------------|\n",
    "| 0   | -2.0  | 0.0539909665      |\n",
    "| 1   | -1.5  | 0.1295175966      |\n",
    "| 2   | -1.0  | 0.2419707245      |\n",
    "| 3   | -0.5  | 0.3520653268      |\n",
    "| 4   | 0.0   | 0.3989422804      |\n",
    "| 5   | 0.5   | 0.3520653268      |\n",
    "| 6   | 1.0   | 0.2419707245      |\n",
    "| 7   | 1.5   | 0.1295175966      |\n",
    "| 8   | 2.0   | 0.0539909665      |\n",
    "\n",
    "$$\n",
    "\\begin{aligned}\n",
    "I &\\approx \\frac{h}{2}\\left[f(x_0) + 2\\sum_{i=1}^{n-1}f(x_i) + f(x_n)\\right] \\\\\n",
    "&= \\frac{0.5}{2}\\big[0.0539909665 + 2(1.845604994564) + 0.0539909665\\big] \\\\\n",
    "&= 0.25 \\times 3.7991919221 \\\\\n",
    "&= \\boxed{0.94989798053}\n",
    "\\end{aligned}\n",
    "$$"
   ]
  },
  {
   "cell_type": "markdown",
   "id": "60a288e9",
   "metadata": {},
   "source": [
    "### Step 2.  \n",
    "Repeat the computation using the **composite Simpson’s rule** with the same number of subintervals $n = 8$. Use the alternating coefficients structure $1, 4, 2, 4, \\dots, 4, 1$, and compute the result to the same level of accuracy."
   ]
  },
  {
   "cell_type": "markdown",
   "id": "db4161bb",
   "metadata": {},
   "source": [
    "- Same parameters: $a=-2$, $b=2$, $n=8$, $h=0.5$\n",
    "- Grid points: Identical to trapezoidal case\n",
    "- Coefficient pattern: $1,4,2,4,2,4,2,4,1$\n",
    "\n",
    "$$\n",
    "\\begin{aligned}\n",
    "I &\\approx \\frac{h}{3}\\left[f(x_0) + 4f(x_1) + 2f(x_2) + \\cdots + 4f(x_7) + f(x_8)\\right] \\\\\n",
    "&= \\frac{0.5}{3}\\big[0.0539909665 + 4(0.1295175966) + 2(0.2419707245) \\\\\n",
    "&\\quad + 4(0.3520653268) + 2(0.3989422804) + 4(0.3520653268) \\\\\n",
    "&\\quad + 2(0.2419707245) + 4(0.1295175966) + 0.0539909665\\big] \\\\\n",
    "&= \\frac{0.5}{3} \\times 5.726412779 \\\\\n",
    "&= \\boxed{0.95440212983}\n",
    "\\end{aligned}\n",
    "$$\n"
   ]
  },
  {
   "cell_type": "markdown",
   "id": "d21f6008",
   "metadata": {},
   "source": [
    "### Step 3.  \n",
    "Apply the **composite Simpson’s 3/8 rule** with $n = 9$ subintervals. Use the appropriate coefficient pattern $1, 3, 3, 2, 3, 3, 2, \\dots, 3, 3, 1$, and write out the weighted sum explicitly before computing the approximation."
   ]
  },
  {
   "cell_type": "markdown",
   "id": "6679fe84",
   "metadata": {},
   "source": [
    "- Interval: $[-2, 2]$ with **9 subintervals**  \n",
    "- Step size: $h = \\frac{4}{9} \\approx 0.4444$  \n",
    "- Grid points: $x_i = -2 + i \\cdot h$ for $i=0,...,9$  \n",
    "- Coefficient pattern: $1,3,3,2,3,3,2,3,3,1$  \n",
    "\n",
    "$$\n",
    "\\begin{aligned}\n",
    "I &\\approx \\frac{3h}{8}\\big[\n",
    "f(x_0) + 3f(x_1) + 3f(x_2) + 2f(x_3) \\\\\n",
    "&\\quad + 3f(x_4) + 3f(x_5) + 2f(x_6) \\\\\n",
    "&\\quad + 3f(x_7) + 3f(x_8) + f(x_9)\n",
    "\\big]\n",
    "\\end{aligned}\n",
    "$$\n",
    "\n",
    "| $x_i$   | $f(x_i)$          | Weight | Contribution      |\n",
    "|----------|-------------------|--------|-------------------|\n",
    "| -2.0000  | 0.0539909665      | 1      | 0.0539909665      |\n",
    "| -1.5556  | 0.1189781904      | 3      | 0.3569345712      |\n",
    "| -1.1111  | 0.2151924610      | 3      | 0.6455773830      |\n",
    "| -0.6667  | 0.3194480055      | 2      | 0.6388960110      |\n",
    "| -0.2222  | 0.3892124691      | 3      | 1.1676374073      |\n",
    "| 0.2222   | 0.3892124691      | 3      | 1.1676374073      |\n",
    "| 0.6667   | 0.3194480055      | 2      | 0.6388960110      |\n",
    "| 1.1111   | 0.2151924610      | 3      | 0.6455773830      |\n",
    "| 1.5556   | 0.1189781904      | 3      | 0.3569345712      |\n",
    "| 2.0000   | 0.0539909665      | 1      | 0.0539909665      |\n",
    "\n",
    "Suming the contribution =  5.7260726780\n",
    "\n",
    "$$\n",
    "I \\approx \\frac{3 \\times 0.4444}{8} \\times 5.7260726780 = \\boxed{0.9543454463333}\n",
    "$$"
   ]
  },
  {
   "cell_type": "markdown",
   "id": "0f5465bc",
   "metadata": {},
   "source": [
    "### Step 4.  \n",
    "Determine the **exact value** of the integral using the error function:\n",
    "$$\n",
    "I_{\\text{exact}} = \\operatorname{erf}\\left(\\frac{2}{\\sqrt{2}}\\right) = \\operatorname{erf}(\\sqrt{2}).\n",
    "$$\n",
    "Use a reliable calculator, table, or software to evaluate this quantity numerically to at least six decimal digits."
   ]
  },
  {
   "cell_type": "markdown",
   "id": "09115a97",
   "metadata": {},
   "source": [
    "The probability integral evaluates to:\n",
    "$$\n",
    "I_{\\text{exact}} = \\int_{-2}^{2} \\frac{1}{\\sqrt{2\\pi}} e^{-x^2/2}\\,dx = \\operatorname{erf}\\left(\\frac{2}{\\sqrt{2}}\\right) = \\operatorname{erf}(\\sqrt{2})\n",
    "$$\n",
    "\n",
    "Using the error function with $\\sqrt{2} \\approx 1.41421356237$:\n",
    "\n",
    "$$\n",
    "\\operatorname{erf}(\\sqrt{2}) = \\boxed{0.9544997361}\n",
    "$$"
   ]
  },
  {
   "cell_type": "code",
   "execution_count": 1,
   "id": "a30b2764",
   "metadata": {},
   "outputs": [
    {
     "name": "stdout",
     "output_type": "stream",
     "text": [
      "0.9544997361\n"
     ]
    }
   ],
   "source": [
    "# In python\n",
    "from scipy.special import erf\n",
    "from math import sqrt\n",
    "print(f\"{erf(sqrt(2)):.10f}\")"
   ]
  },
  {
   "cell_type": "markdown",
   "id": "e8e2832e",
   "metadata": {},
   "source": [
    "### Step 5.  \n",
    "For each method in Steps 1–3, compute the **absolute error** by subtracting the exact value obtained in Step 4. Discuss the relative accuracy of the methods and comment on how the number of subintervals and the rule used influence the error."
   ]
  },
  {
   "cell_type": "markdown",
   "id": "82504276",
   "metadata": {},
   "source": [
    "Exact Reference Value:\n",
    "$$\n",
    "I_{\\text{exact}} = \\boxed{0.9544997361}\n",
    "$$\n",
    "\n",
    "| Method                     | Approximation | Absolute Error $\\|I - I_{\\text{exact}}\\|$ | Relative Error (%) | Subintervals |\n",
    "|----------------------------|---------------|--------------------------------------------|--------------------|--------------|\n",
    "| **Trapezoidal Rule** ($n=8$) | 0.94989798053      | $0.004601755$                                 | 0.4821117%             | 8            |\n",
    "| **Simpson's 1/3 Rule** ($n=8$) | 0.95440212983     | $0.000097606$                                 | 0.010225%            | 8            |\n",
    "| **Simpson's 3/8 Rule** ($n=9$) | 0.95434544633      | $0.00015428$                                 | 0.0161644%             | 9            |\n",
    "\n",
    "$$\n",
    "   \\text{Trapezoidal} < \\text{Simpson's 3/8} < \\text{Simpson's 1/3}\n",
    "$$\n",
    "\n",
    "Despite using more subintervals ($n = 9$), the 3/8 rule underperforms the 1/3 rule due to:\n",
    "\n",
    "1.*Smaller Error Constant in 1/3 Rule:\n",
    "\n",
    "   - Simpson’s 1/3 error term:\n",
    "     $$\n",
    "     E_{1/3} = -\\frac{(b - a)h^4}{180}f^{(4)}(\\xi)\n",
    "     $$\n",
    "   - Simpson’s 3/8 error term:\n",
    "     $$\n",
    "     E_{3/8} = -\\frac{3(b - a)h^4}{80}f^{(4)}(\\xi)\n",
    "     $$\n",
    "\n",
    "   So even if both rules are exact for polynomials of degree ≤ 3, **1/3 has a smaller error constant**.\n",
    "\n",
    "2. More Efficient Use of Intervals:\n",
    "\n",
    "   - 1/3 Rule works over 2 subintervals using quadratic interpolation.\n",
    "   - 3/8 Rule spans 3 subintervals with cubic interpolation, but doesn’t always improve precision unless finely tuned.\n",
    "\n",
    "3. Stability Across Smooth Functions:\n",
    "\n",
    "   - If $f^{(4)}(x)$ is large or irregular, the larger constant in 3/8’s error formula may cause greater deviation."
   ]
  }
 ],
 "metadata": {
  "kernelspec": {
   "display_name": "Python 3",
   "language": "python",
   "name": "python3"
  },
  "language_info": {
   "codemirror_mode": {
    "name": "ipython",
    "version": 3
   },
   "file_extension": ".py",
   "mimetype": "text/x-python",
   "name": "python",
   "nbconvert_exporter": "python",
   "pygments_lexer": "ipython3",
   "version": "3.13.2"
  }
 },
 "nbformat": 4,
 "nbformat_minor": 5
}
