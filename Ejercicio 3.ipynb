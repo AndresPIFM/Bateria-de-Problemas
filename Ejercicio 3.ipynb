{
 "cells": [
  {
   "cell_type": "markdown",
   "id": "bab73bfb",
   "metadata": {},
   "source": [
    "## Problem 3 (Numerical Integration of the Gaussian Density Function)\n",
    "\n",
    "Let\n",
    "\n",
    "$$\n",
    "f(x) = \\frac{1}{\\sqrt{2\\pi}} e^{-x^2/2}\n",
    "$$\n",
    "\n",
    "be the standard normal (Gaussian) probability density function. Consider the integral\n",
    "\n",
    "$$\n",
    "I = \\int_{-2}^{2} f(x)\\, dx,\n",
    "$$\n",
    "\n",
    "which represents the probability that a standard normal random variable lies within two standard deviations of the mean.\n"
   ]
  },
  {
   "cell_type": "markdown",
   "id": "87a666b6",
   "metadata": {},
   "source": [
    "### Step 1\n",
    "\n",
    "Use the **composite trapezoidal rule** with $n = 8$ subintervals to approximate the integral $I$. Write out the general form of the rule and substitute the function values. Report your final approximation to at least six decimal digits."
   ]
  },
  {
   "cell_type": "code",
   "execution_count": null,
   "id": "5599e644",
   "metadata": {
    "vscode": {
     "languageId": "plaintext"
    }
   },
   "outputs": [],
   "source": []
  }
 ],
 "metadata": {
  "language_info": {
   "name": "python"
  }
 },
 "nbformat": 4,
 "nbformat_minor": 5
}
