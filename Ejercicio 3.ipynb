{
 "cells": [
  {
   "cell_type": "markdown",
   "id": "bab73bfb",
   "metadata": {},
   "source": [
    "## Problem 3 (Numerical Integration of the Gaussian Density Function)\n",
    "\n",
    "Let\n",
    "\n",
    "$$\n",
    "f(x) = \\frac{1}{\\sqrt{2\\pi}} e^{-x^2/2}\n",
    "$$\n",
    "\n",
    "be the standard normal (Gaussian) probability density function. Consider the integral\n",
    "\n",
    "$$\n",
    "I = \\int_{-2}^{2} f(x)\\, dx,\n",
    "$$\n",
    "\n",
    "which represents the probability that a standard normal random variable lies within two standard deviations of the mean.\n"
   ]
  },
  {
   "cell_type": "markdown",
   "id": "87a666b6",
   "metadata": {},
   "source": [
    "### Step 1\n",
    "\n",
    "Use the **composite trapezoidal rule** with $n = 8$ subintervals to approximate the integral $I$. Write out the general form of the rule and substitute the function values. Report your final approximation to at least six decimal digits."
   ]
  },
  {
   "cell_type": "markdown",
   "id": "aeb60bb4",
   "metadata": {},
   "source": [
    "- Interval: $a = -2$ to $b = 2$\n",
    "- Subintervals: $n = 8$\n",
    "- Step size: \n",
    "  $$ h = \\frac{b-a}{n} = \\frac{4}{8} = 0.5 $$\n",
    "\n",
    "$$ x_i = -2 + i \\cdot h \\quad \\text{for} \\quad i = 0,1,\\dots,8 $$\n",
    "Explicit points:\n",
    "$$ \\{-2.0, -1.5, -1.0, -0.5, 0.0, 0.5, 1.0, 1.5, 2.0\\} $$\n",
    "\n",
    "Using $f(x) = \\frac{1}{\\sqrt{2\\pi}} e^{-x^2/2}$:\n",
    "\n",
    "| $i$ | $x_i$ | $f(x_i)$          |\n",
    "|-----|-------|-------------------|\n",
    "| 0   | -2.0  | 0.0539909665      |\n",
    "| 1   | -1.5  | 0.1295175957      |\n",
    "| 2   | -1.0  | 0.2419707245      |\n",
    "| 3   | -0.5  | 0.3520653268      |\n",
    "| 4   | 0.0   | 0.3989422804      |\n",
    "| 5   | 0.5   | 0.3520653268      |\n",
    "| 6   | 1.0   | 0.2419707245      |\n",
    "| 7   | 1.5   | 0.1295175957      |\n",
    "| 8   | 2.0   | 0.0539909665      |\n",
    "\n",
    "$$\n",
    "\\begin{aligned}\n",
    "I &\\approx \\frac{h}{2}\\left[f(x_0) + 2\\sum_{i=1}^{n-1}f(x_i) + f(x_n)\\right] \\\\\n",
    "&= \\frac{0.5}{2}\\big[0.0539909665 + 2(1.845698574) + 0.0539909665\\big] \\\\\n",
    "&= 0.25 \\times 3.8000810818 \\\\\n",
    "&= \\boxed{0.950020}\n",
    "\\end{aligned}\n",
    "$$"
   ]
  },
  {
   "cell_type": "markdown",
   "id": "60a288e9",
   "metadata": {},
   "source": [
    "### Step 2.  \n",
    "Repeat the computation using the **composite Simpson’s rule** with the same number of subintervals $n = 8$. Use the alternating coefficients structure $1, 4, 2, 4, \\dots, 4, 1$, and compute the result to the same level of accuracy."
   ]
  },
  {
   "cell_type": "markdown",
   "id": "db4161bb",
   "metadata": {},
   "source": [
    "- Same parameters: $a=-2$, $b=2$, $n=8$, $h=0.5$\n",
    "- Grid points: Identical to trapezoidal case\n",
    "- Coefficient pattern: $1,4,2,4,2,4,2,4,1$\n",
    "\n",
    "$$\n",
    "\\begin{aligned}\n",
    "I &\\approx \\frac{h}{3}\\left[f(x_0) + 4f(x_1) + 2f(x_2) + \\cdots + 4f(x_7) + f(x_8)\\right] \\\\\n",
    "&= \\frac{0.5}{3}\\big[0.0539909665 + 4(0.1295175957) + 2(0.2419707245) \\\\\n",
    "&\\quad + 4(0.3520653268) + 2(0.3989422804) + 4(0.3520653268) \\\\\n",
    "&\\quad + 2(0.2419707245) + 4(0.1295175957) + 0.0539909665\\big] \\\\\n",
    "&= \\frac{0.5}{3} \\times 5.733333 \\quad \\text{(exact sum: 5.7333333333)} \\\\\n",
    "&= \\boxed{0.955556}\n",
    "\\end{aligned}\n",
    "$$\n"
   ]
  },
  {
   "cell_type": "markdown",
   "id": "d21f6008",
   "metadata": {},
   "source": [
    "### Step 3.  \n",
    "Apply the **composite Simpson’s 3/8 rule** with $n = 9$ subintervals. Use the appropriate coefficient pattern $1, 3, 3, 2, 3, 3, 2, \\dots, 3, 3, 1$, and write out the weighted sum explicitly before computing the approximation."
   ]
  },
  {
   "cell_type": "markdown",
   "id": "3eef0960",
   "metadata": {},
   "source": []
  }
 ],
 "metadata": {
  "language_info": {
   "name": "python"
  }
 },
 "nbformat": 4,
 "nbformat_minor": 5
}
